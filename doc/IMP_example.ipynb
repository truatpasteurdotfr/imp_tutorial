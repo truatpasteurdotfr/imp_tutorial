{
 "cells": [
  {
   "cell_type": "markdown",
   "metadata": {
    "slideshow": {
     "slide_type": "slide"
    }
   },
   "source": [
    "# IMP example"
   ]
  },
  {
   "cell_type": "markdown",
   "metadata": {
    "slideshow": {
     "slide_type": "fragment"
    }
   },
   "source": [
    "##What is IMP?\n",
    "\n",
    "IMP is a C++/Python library. \n",
    "\n",
    "IMP provides building blocks and tools to allow methods developers \n",
    "\n",
    "* to convert data from new experimental methods into spatial restraints, \n",
    "* to implement optimization and analysis techniques, \n",
    "* to implement an integrative modeling procedure from scratch; \n",
    "\n",
    "the developer can use the C++ and Python programming languages to achieve these tasks."
   ]
  },
  {
   "cell_type": "markdown",
   "metadata": {
    "slideshow": {
     "slide_type": "subslide"
    }
   },
   "source": [
    "## IMP implementation\n",
    "\n",
    "IMP is primarily implemented in C++ for speed; \n",
    "\n",
    "each of the classes is wrapped so that it can also be used from Python. "
   ]
  },
  {
   "cell_type": "markdown",
   "metadata": {
    "slideshow": {
     "slide_type": "fragment"
    }
   },
   "source": [
    "IMP is organized into module. Each module contains classes, methods and data which are related. "
   ]
  },
  {
   "cell_type": "code",
   "execution_count": null,
   "metadata": {
    "slideshow": {
     "slide_type": "fragment"
    }
   },
   "outputs": [],
   "source": [
    "from __future__ import print_function\n",
    "import IMP\n",
    "import IMP.atom\n",
    "import IMP.core"
   ]
  },
  {
   "cell_type": "markdown",
   "metadata": {
    "slideshow": {
     "slide_type": "subslide"
    }
   },
   "source": [
    "## The Model\n",
    "\n",
    "In IMP, the system is represented by the `IMP.Model` class, which stores a collection of \"particles\"."
   ]
  },
  {
   "cell_type": "code",
   "execution_count": null,
   "metadata": {
    "slideshow": {
     "slide_type": "fragment"
    }
   },
   "outputs": [],
   "source": [
    "# create an IMP model\n",
    "m=IMP.Model()"
   ]
  },
  {
   "cell_type": "markdown",
   "metadata": {
    "slideshow": {
     "slide_type": "subslide"
    }
   },
   "source": [
    "## The Particle\n",
    "\n",
    "A `IMP.Particle` is a flexible and abstract data container, able to hold whatever information is necessary to represent the system."
   ]
  },
  {
   "cell_type": "code",
   "execution_count": null,
   "metadata": {
    "slideshow": {
     "slide_type": "fragment"
    }
   },
   "outputs": [],
   "source": [
    "# create a new particle\n",
    "pa=IMP.Particle(m)\n",
    "\n",
    "# set the name\n",
    "pa.set_name(\"My Particle A\")"
   ]
  },
  {
   "cell_type": "markdown",
   "metadata": {
    "slideshow": {
     "slide_type": "subslide"
    }
   },
   "source": [
    "## Decoration\n",
    "\n",
    "Decorators allows to access and assing to data associated to particles."
   ]
  },
  {
   "cell_type": "code",
   "execution_count": null,
   "metadata": {
    "slideshow": {
     "slide_type": "fragment"
    }
   },
   "outputs": [],
   "source": [
    "# decorate it as a sphere\n",
    "dr=IMP.core.XYZR.setup_particle(pa)\n",
    "\n",
    "# set the coordinates\n",
    "dr.set_coordinates((0,0,0))\n",
    "\n",
    "# set the radius\n",
    "dr.set_radius(1.0)\n",
    "\n",
    "# set the mass\n",
    "IMP.atom.Mass.setup_particle(pa,1.0)\n",
    "\n",
    "# set the optimization of the coordinates to True\n",
    "dr.set_coordinates_are_optimized(True)"
   ]
  },
  {
   "cell_type": "markdown",
   "metadata": {
    "slideshow": {
     "slide_type": "subslide"
    }
   },
   "source": [
    "## Hierarchy\n",
    "\n",
    "Biological modules are represented hierarchically "
   ]
  },
  {
   "cell_type": "code",
   "execution_count": null,
   "metadata": {
    "slideshow": {
     "slide_type": "fragment"
    }
   },
   "outputs": [],
   "source": [
    "# create a hierarchy\n",
    "ha=IMP.atom.Hierarchy(pa)"
   ]
  },
  {
   "cell_type": "code",
   "execution_count": null,
   "metadata": {
    "slideshow": {
     "slide_type": "fragment"
    }
   },
   "outputs": [],
   "source": [
    "# set color\n",
    "ca=IMP.display.Color(1,1,0)\n",
    "c=IMP.display.Colored.setup_particle(pa,ca)"
   ]
  },
  {
   "cell_type": "code",
   "execution_count": null,
   "metadata": {
    "slideshow": {
     "slide_type": "subslide"
    }
   },
   "outputs": [],
   "source": [
    "# create a second particle\n",
    "pb=IMP.Particle(m)\n",
    "pb.set_name(\"My Particle B\")\n",
    "dr=IMP.core.XYZR.setup_particle(pb)\n",
    "dr.set_coordinates((0,0,0))\n",
    "dr.set_radius(1.0)\n",
    "IMP.atom.Mass.setup_particle(pb,1.0)\n",
    "dr.set_coordinates_are_optimized(True)\n",
    "hb=IMP.atom.Hierarchy(pb)\n",
    "cb=IMP.display.Color(0,1,1)\n",
    "c=IMP.display.Colored.setup_particle(pb,cb)"
   ]
  },
  {
   "cell_type": "markdown",
   "metadata": {
    "slideshow": {
     "slide_type": "subslide"
    }
   },
   "source": [
    "## The Movers\n",
    "\n",
    "Move particle attributes with specific rules"
   ]
  },
  {
   "cell_type": "code",
   "execution_count": null,
   "metadata": {
    "slideshow": {
     "slide_type": "fragment"
    }
   },
   "outputs": [],
   "source": [
    "#now create the movers\n",
    "mva=IMP.core.BallMover(m,pa,1.0)\n",
    "mvb=IMP.core.BallMover(m,pb,1.0)"
   ]
  },
  {
   "cell_type": "markdown",
   "metadata": {
    "slideshow": {
     "slide_type": "subslide"
    }
   },
   "source": [
    "## Restraints\n",
    "\n",
    "Every Restraint in IMP is implemented as a function that returns a score for some subset of the Model. \n",
    "\n",
    "A Restraint is satisfied by modifying the system to minimize its score."
   ]
  },
  {
   "cell_type": "code",
   "execution_count": null,
   "metadata": {
    "slideshow": {
     "slide_type": "fragment"
    }
   },
   "outputs": [],
   "source": [
    "# create an harmonic restraint\n",
    "hf = IMP.core.Harmonic(4.0,1.0)\n",
    "dr=IMP.core.DistanceRestraint(m,hf,pa,pb)"
   ]
  },
  {
   "cell_type": "markdown",
   "metadata": {
    "slideshow": {
     "slide_type": "subslide"
    }
   },
   "source": [
    "## Containers\n",
    "\n",
    "Behind the scenes, IMP maintains an IMP::DependencyGraph that tracks how information flows between the particles and the containers, based on the constraints. \n",
    "\n",
    "It is used to optimize the efficiency of the computation"
   ]
  },
  {
   "cell_type": "code",
   "execution_count": null,
   "metadata": {
    "slideshow": {
     "slide_type": "fragment"
    }
   },
   "outputs": [],
   "source": [
    "# and a restraint that contains the two particles\n",
    "center = IMP.algebra.Vector3D(0,0,0)\n",
    "ub = IMP.core.HarmonicUpperBound(20.0,1.0)\n",
    "ss = IMP.core.DistanceToSingletonScore(ub, center)\n",
    "lsc = IMP.container.ListSingletonContainer(m)\n",
    "lsc.add([pa,pb])\n",
    "rest = IMP.container.SingletonsRestraint(ss, lsc)"
   ]
  },
  {
   "cell_type": "markdown",
   "metadata": {
    "slideshow": {
     "slide_type": "subslide"
    }
   },
   "source": [
    "## Scoring Function \n",
    "\n",
    "This is used to calculate how well a configuration in the Model satisfies the Restraints "
   ]
  },
  {
   "cell_type": "code",
   "execution_count": null,
   "metadata": {
    "slideshow": {
     "slide_type": "fragment"
    }
   },
   "outputs": [],
   "source": [
    "# wrap the restraints in a Scoring Function\n",
    "sf = IMP.core.RestraintsScoringFunction([rest,dr])"
   ]
  },
  {
   "cell_type": "markdown",
   "metadata": {
    "slideshow": {
     "slide_type": "subslide"
    }
   },
   "source": [
    "## Monte Carlo Sampling"
   ]
  },
  {
   "cell_type": "code",
   "execution_count": null,
   "metadata": {
    "slideshow": {
     "slide_type": "fragment"
    }
   },
   "outputs": [],
   "source": [
    "# Build the Monte Carlo Sampler\n",
    "mc = IMP.core.MonteCarlo(m)\n",
    "mc.set_scoring_function(sf)\n",
    "sm = IMP.core.SerialMover([mva,mvb])\n",
    "mc.add_mover(sm)\n",
    "mc.set_return_best(False)\n",
    "mc.set_kt(1.0)\n"
   ]
  },
  {
   "cell_type": "markdown",
   "metadata": {
    "slideshow": {
     "slide_type": "subslide"
    }
   },
   "source": [
    "## RMF trajectories\n",
    "\n",
    "Configurations of the model can be saved and visualized using RMF (Rich Molecular Format) files."
   ]
  },
  {
   "cell_type": "code",
   "execution_count": null,
   "metadata": {
    "slideshow": {
     "slide_type": "fragment"
    }
   },
   "outputs": [],
   "source": [
    "# Prepare the trajectory file\n",
    "import IMP.rmf\n",
    "import RMF\n",
    "\n",
    "rh = RMF.create_rmf_file(\"out.rmf\")\n",
    "IMP.rmf.add_hierarchies(rh, [ha,hb])\n",
    "IMP.rmf.add_restraints(rh,[dr])\n",
    "IMP.rmf.save_frame(rh)"
   ]
  },
  {
   "cell_type": "markdown",
   "metadata": {
    "slideshow": {
     "slide_type": "subslide"
    }
   },
   "source": [
    "## Run the sampling"
   ]
  },
  {
   "cell_type": "code",
   "execution_count": null,
   "metadata": {
    "slideshow": {
     "slide_type": "fragment"
    }
   },
   "outputs": [],
   "source": [
    "# run the sampling\n",
    "for i in range(1000):\n",
    "    mc.optimize(1)\n",
    "    IMP.rmf.save_frame(rh)\n",
    "    print(sf.evaluate(False))\n",
    "    \n",
    "del rh"
   ]
  }
 ],
 "metadata": {
  "celltoolbar": "Slideshow",
  "kernelspec": {
   "display_name": "Python 2",
   "language": "python",
   "name": "python2"
  },
  "language_info": {
   "codemirror_mode": {
    "name": "ipython",
    "version": 2
   },
   "file_extension": ".py",
   "mimetype": "text/x-python",
   "name": "python",
   "nbconvert_exporter": "python",
   "pygments_lexer": "ipython2",
   "version": "2.7.15"
  }
 },
 "nbformat": 4,
 "nbformat_minor": 1
}
